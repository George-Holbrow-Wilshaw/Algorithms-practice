{
 "cells": [
  {
   "cell_type": "code",
   "execution_count": 1,
   "metadata": {},
   "outputs": [
    {
     "name": "stderr",
     "output_type": "stream",
     "text": [
      "UsageError: Line magic function `%` not found.\n"
     ]
    }
   ],
   "source": [
    "from tqdm import tqdm\n",
    "import pandas as pd\n",
    "import matplotlib.pyplot as plt\n",
    "import itertools\n",
    "from collections import Counter\n",
    "import numpy as np"
   ]
  },
  {
   "cell_type": "code",
   "execution_count": null,
   "metadata": {},
   "outputs": [],
   "source": [
    "peter_dice = [1, 2, 3, 4]\n",
    "colin_dice = range(1, 7)\n",
    "\n",
    "def p_pmf():\n",
    "    l = []\n",
    "    for i in itertools.product(range(1,5), repeat=9):\n",
    "        l.append(sum(i))\n",
    "    d = Counter(l)\n",
    "    return {k: v / float(len(l)) for k, v in d.iteritems()}\n",
    "\n",
    "def c_pmf():\n",
    "    l = []\n",
    "    for i in itertools.product(range(1,7), repeat=6):\n",
    "        l.append(sum(i))\n",
    "    d = Counter(l)\n",
    "    return {k: v / float(len(l)) for k, v in d.iteritems()}\n",
    "\n",
    "pe_pmf = (pd.DataFrame(p_pmf(), index=[1]).T)\n",
    "cr_pmf = (pd.DataFrame(c_pmf(), index=[1]).T)"
   ]
  },
  {
   "cell_type": "code",
   "execution_count": 3,
   "metadata": {},
   "outputs": [
    {
     "data": {
      "text/plain": [
       "0.5731441"
      ]
     },
     "execution_count": 3,
     "metadata": {},
     "output_type": "execute_result"
    }
   ],
   "source": [
    "def convolute(X, Y):\n",
    "    ## P(P > C) = P(P - C > 0)\n",
    "    ## Z = X - Y  Y = Z + X (k)\n",
    "    ## P(Z = z) = Sum_6^36 P(X = k) P(Y = z + k)\n",
    "    Zmin = 9 - 36\n",
    "    Zmax = 36 - 6\n",
    "    \n",
    "    Z = pd.DataFrame(columns = [\"Prob\"], index = range(Zmin, Zmax + 1))\n",
    "\n",
    "    for z in range(Zmin, Zmax + 1):\n",
    "        Zs = 0\n",
    "        for k in range(6, 37):\n",
    "            try:\n",
    "                Zs += X[1].ix[k] * Y[1].ix[z + k]\n",
    "            except:\n",
    "                Zs += 0\n",
    "        Z.Prob.ix[z] = Zs\n",
    "    return Z\n",
    "\n",
    "round(1 - sum(convolute(pe_pmf, cr_pmf).ix[0:30][\"Prob\"]), 7)"
   ]
  },
  {
   "cell_type": "code",
   "execution_count": 6,
   "metadata": {},
   "outputs": [
    {
     "data": {
      "text/plain": [
       "0.5731441"
      ]
     },
     "execution_count": 6,
     "metadata": {},
     "output_type": "execute_result"
    }
   ],
   "source": [
    "## P[X > Y] = P[X > Y | Y = 6] + ... + P[X > Y | Y = 36] etc etc\n",
    "## => P[X > Y] = Sum^36_k=6 P[X > k]P[Y = k]\n",
    "\n",
    "def prob_x_gt_y():\n",
    "    total = 0\n",
    "    for i in range(6, 36):\n",
    "        if i < 9:\n",
    "            total += 1 * cr_pmf.ix[i][1]\n",
    "        else:\n",
    "            total += sum(pe_pmf.ix[i + 1:37][1]) * cr_pmf.ix[i][1]\n",
    "    return total\n",
    "\n",
    "\n",
    "round(prob_x_gt_y(), 7)"
   ]
  },
  {
   "cell_type": "code",
   "execution_count": null,
   "metadata": {},
   "outputs": [],
   "source": []
  },
  {
   "cell_type": "code",
   "execution_count": null,
   "metadata": {},
   "outputs": [],
   "source": []
  },
  {
   "cell_type": "code",
   "execution_count": 3,
   "metadata": {},
   "outputs": [],
   "source": []
  },
  {
   "cell_type": "code",
   "execution_count": 4,
   "metadata": {},
   "outputs": [],
   "source": []
  },
  {
   "cell_type": "code",
   "execution_count": 5,
   "metadata": {},
   "outputs": [],
   "source": []
  },
  {
   "cell_type": "code",
   "execution_count": null,
   "metadata": {},
   "outputs": [],
   "source": []
  },
  {
   "cell_type": "code",
   "execution_count": null,
   "metadata": {},
   "outputs": [],
   "source": []
  },
  {
   "cell_type": "code",
   "execution_count": null,
   "metadata": {},
   "outputs": [],
   "source": []
  },
  {
   "cell_type": "code",
   "execution_count": null,
   "metadata": {
    "collapsed": true
   },
   "outputs": [],
   "source": []
  }
 ],
 "metadata": {
  "kernelspec": {
   "display_name": "Python 3",
   "language": "python",
   "name": "python3"
  },
  "language_info": {
   "codemirror_mode": {
    "name": "ipython",
    "version": 3
   },
   "file_extension": ".py",
   "mimetype": "text/x-python",
   "name": "python",
   "nbconvert_exporter": "python",
   "pygments_lexer": "ipython3",
   "version": "3.7.6"
  }
 },
 "nbformat": 4,
 "nbformat_minor": 2
}
